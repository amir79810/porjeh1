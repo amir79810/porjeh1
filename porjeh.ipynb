{
 "cells": [
  {
   "cell_type": "code",
   "execution_count": 4,
   "id": "67cbc985-fee8-4523-ac1f-e1895958f000",
   "metadata": {},
   "outputs": [],
   "source": [
    "import pandas as pd\n",
    "from sklearn.model_selection import train_test_split\n",
    "from sklearn.neighbors import KNeighborsClassifier\n",
    "from sklearn.tree import DecisionTreeClassifier\n",
    "from sklearn.ensemble import RandomForestClassifier \n"
   ]
  },
  {
   "cell_type": "code",
   "execution_count": 5,
   "id": "e371511c-fd6f-456d-ba8f-056cb5de71d3",
   "metadata": {},
   "outputs": [],
   "source": [
    "df = pd.read_csv(\"car.data\",header=None)\n"
   ]
  },
  {
   "cell_type": "code",
   "execution_count": 6,
   "id": "38f5789b-0ffa-4c58-8206-146d68bb1d44",
   "metadata": {},
   "outputs": [],
   "source": [
    "df.columns = [\"buying\", \"maint\", \"doors\", \"persons\", \"lug_boot\", \"safety\", \"class\"]"
   ]
  },
  {
   "cell_type": "code",
   "execution_count": 7,
   "id": "6631324f-bad4-47ed-bd2f-22176e146395",
   "metadata": {},
   "outputs": [],
   "source": [
    "buying_lst = list(df[\"buying\"].unique())\n",
    "df[\"n_buying\"] =[buying_lst.index(i) for i in df[\"buying\"]]\n",
    "\n",
    "maint_lst = list(df[\"maint\"].unique())\n",
    "df[\"n_maint\"] =[maint_lst.index(i) for i in df[\"maint\"]]\n",
    "\n",
    "doors_lst = list(df[\"doors\"].unique())\n",
    "df[\"n_doors\"] =[doors_lst.index(i) for i in df[\"doors\"]]\n",
    "\n",
    "persons_lst = list(df[\"persons\"].unique())\n",
    "df[\"n_persons\"] =[persons_lst.index(i) for i in df[\"persons\"]]\n",
    "\n",
    "lug_boot_lst = list(df[\"lug_boot\"].unique())\n",
    "df[\"n_lug_boot\"] =[lug_boot_lst.index(i) for i in df[\"lug_boot\"]]\n",
    "\n",
    "safety_lst = list(df[\"safety\"].unique())\n",
    "df[\"n_safety\"] =[safety_lst.index(i) for i in df[\"safety\"]]\n",
    "\n",
    "class_lst = list(df[\"class\"].unique())\n",
    "df[\"n_class\"] =[class_lst.index(i) for i in df[\"class\"]]"
   ]
  },
  {
   "cell_type": "code",
   "execution_count": 8,
   "id": "bc6b8154-41bd-45d4-969f-75ce192aad4a",
   "metadata": {},
   "outputs": [],
   "source": [
    "df = df[[\"n_buying\", \"n_maint\", \"n_doors\", \"n_persons\", \"n_lug_boot\", \"n_safety\",\"n_class\"]]"
   ]
  },
  {
   "cell_type": "code",
   "execution_count": 9,
   "id": "a8a5a75c-d0e2-4a79-bc6f-2e893012200c",
   "metadata": {},
   "outputs": [],
   "source": [
    "predict = \"n_class\"\n",
    "x = df.drop(predict, axis=1)\n",
    "y = df[predict]"
   ]
  },
  {
   "cell_type": "code",
   "execution_count": 10,
   "id": "142261dc-d180-4d1f-941f-73d254595ea4",
   "metadata": {},
   "outputs": [],
   "source": [
    "x_train, x_test, y_train,y_test = train_test_split(x,y,test_size=0.1)"
   ]
  },
  {
   "cell_type": "code",
   "execution_count": 11,
   "id": "e7b2d728-1903-44e7-8079-5c76134ef51d",
   "metadata": {},
   "outputs": [
    {
     "name": "stdout",
     "output_type": "stream",
     "text": [
      "0.9075144508670521\n"
     ]
    }
   ],
   "source": [
    "model = KNeighborsClassifier(n_neighbors=6)\n",
    "model.fit(x_train, y_train)\n",
    "score = model.score(x_test, y_test)\n",
    "print(score)"
   ]
  },
  {
   "cell_type": "code",
   "execution_count": 12,
   "id": "049309de-1a69-4ee1-896b-6092f3f5fb5f",
   "metadata": {},
   "outputs": [
    {
     "name": "stdout",
     "output_type": "stream",
     "text": [
      "Decision Tree Accuracy: 0.9826589595375722\n"
     ]
    }
   ],
   "source": [
    "model = DecisionTreeClassifier()\n",
    "model.fit(x_train, y_train)\n",
    "print(\"Decision Tree Accuracy:\", model.score(x_test, y_test))"
   ]
  },
  {
   "cell_type": "code",
   "execution_count": 13,
   "id": "f01041a6-051f-4ac9-b7d5-f36fb85bf5cf",
   "metadata": {},
   "outputs": [
    {
     "name": "stdout",
     "output_type": "stream",
     "text": [
      "Random Forest Accuracy: 0.9826589595375722\n"
     ]
    }
   ],
   "source": [
    "model = RandomForestClassifier(n_estimators=100)\n",
    "model.fit(x_train, y_train)\n",
    "print(\"Random Forest Accuracy:\", model.score(x_test, y_test))"
   ]
  },
  {
   "cell_type": "code",
   "execution_count": null,
   "id": "78b4ecb9-ad8e-4b88-bd1d-a50cfedd8826",
   "metadata": {},
   "outputs": [],
   "source": []
  },
  {
   "cell_type": "code",
   "execution_count": null,
   "id": "b3a62ba5-34c0-4820-8969-8fe05cb35153",
   "metadata": {},
   "outputs": [],
   "source": []
  }
 ],
 "metadata": {
  "kernelspec": {
   "display_name": "Python 3 (ipykernel)",
   "language": "python",
   "name": "python3"
  },
  "language_info": {
   "codemirror_mode": {
    "name": "ipython",
    "version": 3
   },
   "file_extension": ".py",
   "mimetype": "text/x-python",
   "name": "python",
   "nbconvert_exporter": "python",
   "pygments_lexer": "ipython3",
   "version": "3.13.3"
  }
 },
 "nbformat": 4,
 "nbformat_minor": 5
}
